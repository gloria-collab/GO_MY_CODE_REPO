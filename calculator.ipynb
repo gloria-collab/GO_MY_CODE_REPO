{
 "cells": [
  {
   "cell_type": "code",
   "execution_count": 2,
   "id": "b0e64314",
   "metadata": {},
   "outputs": [
    {
     "name": "stdout",
     "output_type": "stream",
     "text": [
      "Advanced Calculator. Type 'exit' at any time to quit.\n",
      "\n"
     ]
    },
    {
     "name": "stdout",
     "output_type": "stream",
     "text": [
      "Result: 70.0\n",
      "\n"
     ]
    }
   ],
   "source": [
    "import math\n",
    "\n",
    "class Calculator:\n",
    "    def __init__(self):\n",
    "        self.operations = {\n",
    "            '+': lambda x, y: x + y,\n",
    "            '-': lambda x, y: x - y,\n",
    "            '*': lambda x, y: x * y,\n",
    "            '/': self.safe_divide\n",
    "        }\n",
    "\n",
    "    def safe_divide(self, x, y):\n",
    "        if y == 0:\n",
    "            raise ZeroDivisionError(\"Division by zero is not allowed.\")\n",
    "        return x / y\n",
    "\n",
    "    def add_operation(self, symbol, func):\n",
    "        self.operations[symbol] = func\n",
    "\n",
    "    def calculate(self, num1, operation, num2=None):\n",
    "        if not isinstance(num1, (int, float)):\n",
    "            raise ValueError(\"First input must be a number.\")\n",
    "        if operation not in self.operations:\n",
    "            raise ValueError(f\"Unsupported operation '{operation}'.\")\n",
    "        if operation not in ['√', 'log'] and not isinstance(num2, (int, float)):\n",
    "            raise ValueError(\"Second input must be a number.\")\n",
    "\n",
    "        try:\n",
    "            if operation in ['√', 'log']:\n",
    "                return self.operations[operation](num1)\n",
    "            else:\n",
    "                return self.operations[operation](num1, num2)\n",
    "        except Exception as e:\n",
    "            print(f\"Error occurred: {e}\")\n",
    "            raise\n",
    "\n",
    "# Advanced functions\n",
    "def power(x, y):\n",
    "    return math.pow(x, y)\n",
    "\n",
    "def square_root(x):\n",
    "    if x < 0:\n",
    "        raise ValueError(\"Cannot calculate square root of a negative number.\")\n",
    "    return math.sqrt(x)\n",
    "\n",
    "def logarithm(x):\n",
    "    if x <= 0:\n",
    "        raise ValueError(\"Logarithm is only defined for numbers greater than zero.\")\n",
    "    return math.log(x)\n",
    "\n",
    "# Main program\n",
    "if __name__ == \"__main__\":\n",
    "    calc = Calculator()\n",
    "    calc.add_operation('^', power)\n",
    "    calc.add_operation('√', square_root)\n",
    "    calc.add_operation('log', logarithm)\n",
    "\n",
    "    print(\"Advanced Calculator. Type 'exit' at any time to quit.\\n\")\n",
    "\n",
    "    while True:\n",
    "        try:\n",
    "            op = input(f\"Enter operation {list(calc.operations.keys())} (or type 'exit'): \").strip()\n",
    "            if op.lower() == 'exit':\n",
    "                break\n",
    "            if op not in calc.operations:\n",
    "                print(\"Invalid operation. Try again.\\n\")\n",
    "                continue\n",
    "\n",
    "            inp1 = input(\"Enter the first number: \").strip()\n",
    "            if inp1.lower() == 'exit':\n",
    "                break\n",
    "            num1 = float(inp1)\n",
    "\n",
    "            if op in ['√', 'log']:\n",
    "                result = calc.calculate(num1, op)\n",
    "            else:\n",
    "                inp2 = input(\"Enter the second number: \").strip()\n",
    "                if inp2.lower() == 'exit':\n",
    "                    break\n",
    "                num2 = float(inp2)\n",
    "                result = calc.calculate(num1, op, num2)\n",
    "\n",
    "            print(f\"Result: {result}\\n\")\n",
    "\n",
    "        except Exception as e:\n",
    "            print(f\"Calculation failed: {e}\\n\")\n"
   ]
  }
 ],
 "metadata": {
  "kernelspec": {
   "display_name": "Python 3",
   "language": "python",
   "name": "python3"
  },
  "language_info": {
   "codemirror_mode": {
    "name": "ipython",
    "version": 3
   },
   "file_extension": ".py",
   "mimetype": "text/x-python",
   "name": "python",
   "nbconvert_exporter": "python",
   "pygments_lexer": "ipython3",
   "version": "3.10.11"
  }
 },
 "nbformat": 4,
 "nbformat_minor": 5
}
