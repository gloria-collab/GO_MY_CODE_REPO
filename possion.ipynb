{
 "cells": [
  {
   "cell_type": "code",
   "execution_count": 1,
   "metadata": {},
   "outputs": [
    {
     "name": "stdout",
     "output_type": "stream",
     "text": [
      "good morning\n"
     ]
    }
   ],
   "source": [
    "print(\"good morning\")"
   ]
  },
  {
   "cell_type": "markdown",
   "metadata": {},
   "source": [
    "## Introduction to Github\n",
    "-A basic introduction to github and its uses\n",
    "\n"
   ]
  },
  {
   "cell_type": "code",
   "execution_count": 17,
   "metadata": {},
   "outputs": [
    {
     "name": "stdout",
     "output_type": "stream",
     "text": [
      "Defaulting to user installation because normal site-packages is not writeable\n",
      "Requirement already satisfied: scipy in c:\\users\\hp\\appdata\\local\\packages\\pythonsoftwarefoundation.python.3.13_qbz5n2kfra8p0\\localcache\\local-packages\\python313\\site-packages (1.15.2)\n",
      "Requirement already satisfied: numpy<2.5,>=1.23.5 in c:\\users\\hp\\appdata\\local\\packages\\pythonsoftwarefoundation.python.3.13_qbz5n2kfra8p0\\localcache\\local-packages\\python313\\site-packages (from scipy) (2.2.3)\n",
      "Note: you may need to restart the kernel to use updated packages.\n"
     ]
    },
    {
     "name": "stderr",
     "output_type": "stream",
     "text": [
      "\n",
      "[notice] A new release of pip is available: 24.3.1 -> 25.0.1\n",
      "[notice] To update, run: C:\\Users\\HP\\AppData\\Local\\Microsoft\\WindowsApps\\PythonSoftwareFoundation.Python.3.13_qbz5n2kfra8p0\\python.exe -m pip install --upgrade pip\n"
     ]
    }
   ],
   "source": [
    "pip install scipy\n"
   ]
  },
  {
   "cell_type": "code",
   "execution_count": 9,
   "metadata": {},
   "outputs": [],
   "source": [
    "posssibiility_of_success = 0.02\n",
    "sample_size= 1000\n",
    "# determine the chances that out of 1000 people, more than 3 persons will have a bad reaction.\n",
    "import scipy.stats as stats"
   ]
  },
  {
   "cell_type": "code",
   "execution_count": 25,
   "metadata": {},
   "outputs": [
    {
     "name": "stdout",
     "output_type": "stream",
     "text": [
      "20.0\n"
     ]
    }
   ],
   "source": [
    "from scipy.stats import poisson \n",
    "\n",
    "lambda_= sample_size*posssibiility_of_success\n",
    "print(lambda_)\n",
    "\n"
   ]
  },
  {
   "cell_type": "code",
   "execution_count": 28,
   "metadata": {},
   "outputs": [
    {
     "name": "stdout",
     "output_type": "stream",
     "text": [
      "the probability of x = 0 is 2.061153622438558e-09\n",
      "the probability of x = 1 is 4.122307244877113e-08\n",
      "the probability of x = 2 is 4.122307244877118e-07\n",
      "the probability of x = 3 is 4.122307244877118e-07\n"
     ]
    }
   ],
   "source": [
    "p_1 = poisson.pmf(0,lambda_)\n",
    "p_2 = poisson.pmf(1,lambda_)\n",
    "p_3 = poisson.pmf(2,lambda_)\n",
    "p_4 = poisson.pmf(3,lambda_)\n",
    "\n",
    "print(f\"the probability of x = 0 is {p_1}\")\n",
    "print(f\"the probability of x = 1 is {p_2}\")\n",
    "print(f\"the probability of x = 2 is {p_3}\")\n",
    "print(f\"the probability of x = 3 is {p_3}\")"
   ]
  },
  {
   "cell_type": "code",
   "execution_count": 27,
   "metadata": {},
   "outputs": [
    {
     "name": "stdout",
     "output_type": "stream",
     "text": [
      "the probability that out of 1000 people, more than 3 will have a bad reaction is 3.203719780477e-06\n"
     ]
    }
   ],
   "source": [
    "total = p_1 + p_2 + p_3 + p_4\n",
    "print(f\"the probability that out of 1000 people, more than 3 will have a bad reaction is {total}\")"
   ]
  },
  {
   "cell_type": "code",
   "execution_count": 29,
   "metadata": {},
   "outputs": [
    {
     "name": "stdout",
     "output_type": "stream",
     "text": [
      "the probability that out of 1000 people, more than 3 will have a bad reaction is 0.9999967962802195\n"
     ]
    }
   ],
   "source": [
    "p_more_than_3 = 1 - total\n",
    "print(f\"the probability that out of 1000 people, more than 3 will have a bad reaction is {p_more_than_3}\")"
   ]
  }
 ],
 "metadata": {
  "kernelspec": {
   "display_name": "Python 3",
   "language": "python",
   "name": "python3"
  },
  "language_info": {
   "codemirror_mode": {
    "name": "ipython",
    "version": 3
   },
   "file_extension": ".py",
   "mimetype": "text/x-python",
   "name": "python",
   "nbconvert_exporter": "python",
   "pygments_lexer": "ipython3",
   "version": "3.13.2"
  }
 },
 "nbformat": 4,
 "nbformat_minor": 2
}
