{
 "cells": [
  {
   "cell_type": "code",
   "execution_count": null,
   "id": "0fb1faec",
   "metadata": {},
   "outputs": [],
   "source": [
    "import random"
   ]
  },
  {
   "cell_type": "code",
   "execution_count": 10,
   "id": "263d8b8e",
   "metadata": {},
   "outputs": [],
   "source": [
    "class Account:\n",
    "    def __init__(self, name, email, address, account_num, DOB ,account_balance =0):\n",
    "        self.name = name\n",
    "        self.email = email\n",
    "        self.address = address\n",
    "        self.account_no = account_num\n",
    "        self.DOB = DOB\n",
    "        self.account_balance = account_balance\n",
    "\n",
    "    def __repr__(self):\n",
    "        return f'Welcome {self.name} to Our Bank'\n",
    "    \n",
    "    def deposit(self, amount):\n",
    "        self.account_balance = self.account_balance + amount\n",
    "        return f' Your new account balance {self.name} is now {self.account_balance}'\n",
    "    \n",
    "    def withdraw(self, amount):\n",
    "        if amount > self.account_balance:\n",
    "            return \"insufficent balance\"\n",
    "        else:\n",
    "            self.account_balance = self.account_balance - amount\n",
    "            return f\" Your new account balance is  {self.account_balance}\"\n",
    "\n",
    "    def transfer(self, amount, receivers_num, account_num):\n",
    "        if amount > self.account_balance:\n",
    "            return \"Insufficent Balance\"\n",
    "        else:\n",
    "            self.account_balance = self.account_balance - amount\n",
    "            receivers_num.account_balance += amount\n",
    "            return f\" {amount} has been sent to {account_num}\"\n",
    "        \n",
    "    def balance_info(self):\n",
    "        return f'Hi {self.name}, Account Number {self.account_no}, Your account balance is {self.account_balance}, {self.email}'\n",
    "\n",
    "    def update_account_details(self, email=None, address=None, DOB=None):\n",
    "        if address:\n",
    "            self.address= address\n",
    "        if email:\n",
    "            self.email = email\n",
    "        if DOB:\n",
    "            self.DOB = DOB\n",
    "\n",
    "       "
   ]
  },
  {
   "cell_type": "code",
   "execution_count": 2,
   "id": "68b97504",
   "metadata": {},
   "outputs": [],
   "source": [
    "my_account = Account('Gloria','dola@gmail.com','Lagos','0928840585',123/40/50)"
   ]
  },
  {
   "cell_type": "code",
   "execution_count": 3,
   "id": "577fb848",
   "metadata": {},
   "outputs": [
    {
     "data": {
      "text/plain": [
       "' Your new account balance Gloria is now 5000000000'"
      ]
     },
     "execution_count": 3,
     "metadata": {},
     "output_type": "execute_result"
    }
   ],
   "source": [
    "my_account.deposit(5000000000)"
   ]
  },
  {
   "cell_type": "code",
   "execution_count": 4,
   "id": "25b5c127",
   "metadata": {},
   "outputs": [
    {
     "data": {
      "text/plain": [
       "' Your new account balance is  4999998000'"
      ]
     },
     "execution_count": 4,
     "metadata": {},
     "output_type": "execute_result"
    }
   ],
   "source": [
    "my_account.withdraw(2000)"
   ]
  },
  {
   "cell_type": "code",
   "execution_count": 5,
   "id": "67163441",
   "metadata": {},
   "outputs": [],
   "source": [
    "another = Account('Stanley','dola@gmail.com','Lagos','0928840586',123/40/50)"
   ]
  },
  {
   "cell_type": "code",
   "execution_count": 6,
   "id": "fafcf542",
   "metadata": {},
   "outputs": [
    {
     "data": {
      "text/plain": [
       "' 150000 has been sent to 0928840585'"
      ]
     },
     "execution_count": 6,
     "metadata": {},
     "output_type": "execute_result"
    }
   ],
   "source": [
    "my_account.transfer(150000, another,'0928840585')"
   ]
  },
  {
   "cell_type": "code",
   "execution_count": 7,
   "id": "d7ea36d3",
   "metadata": {},
   "outputs": [
    {
     "data": {
      "text/plain": [
       "'Hi Stanley, Account Number 0928840586, Your account balance is 150000, dola@gmail.com'"
      ]
     },
     "execution_count": 7,
     "metadata": {},
     "output_type": "execute_result"
    }
   ],
   "source": [
    "another.balance_info()"
   ]
  },
  {
   "cell_type": "code",
   "execution_count": 11,
   "id": "2a77e890",
   "metadata": {},
   "outputs": [],
   "source": [
    "another.update_account_details(another,'0928840585')"
   ]
  },
  {
   "cell_type": "code",
   "execution_count": null,
   "id": "712fe386",
   "metadata": {},
   "outputs": [],
   "source": []
  }
 ],
 "metadata": {
  "kernelspec": {
   "display_name": "Python 3",
   "language": "python",
   "name": "python3"
  },
  "language_info": {
   "codemirror_mode": {
    "name": "ipython",
    "version": 3
   },
   "file_extension": ".py",
   "mimetype": "text/x-python",
   "name": "python",
   "nbconvert_exporter": "python",
   "pygments_lexer": "ipython3",
   "version": "3.10.11"
  }
 },
 "nbformat": 4,
 "nbformat_minor": 5
}
