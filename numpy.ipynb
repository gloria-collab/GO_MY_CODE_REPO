{
 "cells": [
  {
   "cell_type": "code",
   "execution_count": 1,
   "id": "afae6fe5",
   "metadata": {},
   "outputs": [
    {
     "name": "stdout",
     "output_type": "stream",
     "text": [
      "Grades: [85 90 88 92 95 80 75 98 89 83]\n",
      "Mean: 87.5\n",
      "Median: 88.5\n",
      "Standard Deviation: 6.591661399070799\n",
      "Maximum Grade: 98\n",
      "Minimum Grade: 75\n",
      "Sorted Grades: [75 80 83 85 88 89 90 92 95 98]\n",
      "Index of Highest Grade: 7\n",
      "Number of Students with Grades > 90: 3\n",
      "Percentage of Students with Grades > 90: 30.0 %\n",
      "Percentage of Students with Grades < 75: 0.0 %\n",
      "High Performers (Grades > 90): [92 95 98]\n",
      "Passing Grades (Grades > 75): [85 90 88 92 95 80 98 89 83]\n"
     ]
    }
   ],
   "source": [
    "import numpy as np\n",
    "\n",
    "# Step 1: Create the grades array\n",
    "grades = np.array([85, 90, 88, 92, 95, 80, 75, 98, 89, 83])\n",
    "\n",
    "# Step 2: Calculate mean, median, and standard deviation\n",
    "mean_grade = np.mean(grades)\n",
    "median_grade = np.median(grades)\n",
    "std_dev = np.std(grades)\n",
    "\n",
    "# Step 3: Find the maximum and minimum grades\n",
    "max_grade = np.max(grades)\n",
    "min_grade = np.min(grades)\n",
    "\n",
    "# Step 4: Sort the grades in ascending order\n",
    "sorted_grades = np.sort(grades)\n",
    "\n",
    "# Step 5: Find the index of the highest grade\n",
    "index_max = np.argmax(grades)\n",
    "\n",
    "# Step 6: Count and calculate the percentage of students who scored above 90\n",
    "count_above_90 = np.sum(grades > 90)\n",
    "percent_above_90 = np.mean(grades > 90) * 100\n",
    "\n",
    "# Step 7: Calculate the percentage of students who scored below 75\n",
    "percent_below_75 = np.mean(grades < 75) * 100\n",
    "\n",
    "# Step 8: Extract high performers (grades above 90)\n",
    "high_performers = grades[grades > 90]\n",
    "\n",
    "# Step 9: Extract passing grades (above 75)\n",
    "passing_grades = grades[grades > 75]\n",
    "\n",
    "# Step 10: Print all results\n",
    "print(\"Grades:\", grades)\n",
    "print(\"Mean:\", mean_grade)\n",
    "print(\"Median:\", median_grade)\n",
    "print(\"Standard Deviation:\", std_dev)\n",
    "print(\"Maximum Grade:\", max_grade)\n",
    "print(\"Minimum Grade:\", min_grade)\n",
    "print(\"Sorted Grades:\", sorted_grades)\n",
    "print(\"Index of Highest Grade:\", index_max)\n",
    "print(\"Number of Students with Grades > 90:\", count_above_90)\n",
    "print(\"Percentage of Students with Grades > 90:\", percent_above_90, \"%\")\n",
    "print(\"Percentage of Students with Grades < 75:\", percent_below_75, \"%\")\n",
    "print(\"High Performers (Grades > 90):\", high_performers)\n",
    "print(\"Passing Grades (Grades > 75):\", passing_grades)\n"
   ]
  },
  {
   "cell_type": "code",
   "execution_count": 2,
   "id": "7d318e95",
   "metadata": {},
   "outputs": [
    {
     "name": "stdout",
     "output_type": "stream",
     "text": [
      "hello\n"
     ]
    }
   ],
   "source": [
    "print(\"hello\")"
   ]
  },
  {
   "cell_type": "code",
   "execution_count": null,
   "id": "e526887b",
   "metadata": {},
   "outputs": [],
   "source": []
  }
 ],
 "metadata": {
  "kernelspec": {
   "display_name": "Python 3",
   "language": "python",
   "name": "python3"
  },
  "language_info": {
   "codemirror_mode": {
    "name": "ipython",
    "version": 3
   },
   "file_extension": ".py",
   "mimetype": "text/x-python",
   "name": "python",
   "nbconvert_exporter": "python",
   "pygments_lexer": "ipython3",
   "version": "3.10.11"
  }
 },
 "nbformat": 4,
 "nbformat_minor": 5
}
