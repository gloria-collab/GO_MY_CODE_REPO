{
 "cells": [
  {
   "cell_type": "code",
   "execution_count": 1,
   "id": "7d99f061",
   "metadata": {},
   "outputs": [],
   "source": [
    "API_KEY = \"XUngDX0uX3UqABKYnF9VmvBpsvrqdUH1cfGEMENa\"\n"
   ]
  },
  {
   "cell_type": "code",
   "execution_count": 2,
   "id": "8921e82e",
   "metadata": {},
   "outputs": [],
   "source": [
    "import requests\n",
    "import pandas as pd\n"
   ]
  },
  {
   "cell_type": "code",
   "execution_count": 3,
   "id": "d2202b3c",
   "metadata": {},
   "outputs": [
    {
     "name": "stdout",
     "output_type": "stream",
     "text": [
      "https://apod.nasa.gov/apod/image/2507/SunLoops_Vanoni_960.jpg\n",
      "Coronal Loops on the Sun\n"
     ]
    }
   ],
   "source": [
    "\n",
    "url = f\"https://api.nasa.gov/planetary/apod?api_key={API_KEY}\"\n",
    "response = requests.get(url).json()\n",
    "print(response[\"url\"])  # Image URL\n",
    "print(response[\"title\"])  # Title of the image\n"
   ]
  },
  {
   "cell_type": "code",
   "execution_count": 4,
   "id": "4424d62a",
   "metadata": {},
   "outputs": [
    {
     "data": {
      "text/html": [
       "<img src=\"https://apod.nasa.gov/apod/image/2507/SunLoops_Vanoni_960.jpg\"/>"
      ],
      "text/plain": [
       "<IPython.core.display.Image object>"
      ]
     },
     "execution_count": 4,
     "metadata": {},
     "output_type": "execute_result"
    }
   ],
   "source": [
    "from IPython.display import Image\n",
    "Image(url=response[\"url\"])\n"
   ]
  },
  {
   "cell_type": "code",
   "execution_count": 5,
   "id": "5720df5f",
   "metadata": {},
   "outputs": [],
   "source": [
    "url = f\"https://api.nasa.gov/neo/rest/v1/feed?start_date=2023-01-01&end_date=2023-01-02&api_key={API_KEY}\"\n",
    "response = requests.get(url).json()\n"
   ]
  },
  {
   "cell_type": "code",
   "execution_count": 6,
   "id": "90693255",
   "metadata": {},
   "outputs": [
    {
     "name": "stdout",
     "output_type": "stream",
     "text": [
      "  Asteroid ID      Asteroid name  Minimal estimated diameter (km)  \\\n",
      "0     2453309  453309 (2008 VQ4)                         0.333085   \n",
      "1     3683468       (2014 QR295)                         0.557898   \n",
      "2     3703782        (2015 AE45)                         0.023150   \n",
      "3     3720918          (2015 LJ)                         0.030518   \n",
      "4     3767936        (2017 BQ93)                         0.201630   \n",
      "\n",
      "   Absolute_magnitude  Relative_velocity(km/s)  \n",
      "0               19.51                 5.822172  \n",
      "1               18.39                16.180469  \n",
      "2               25.30                 6.862151  \n",
      "3               24.70                 7.189222  \n",
      "4               20.60                24.163217  \n"
     ]
    }
   ],
   "source": [
    "asteroids = []\n",
    "\n",
    "for date in response[\"near_earth_objects\"]:\n",
    "    for obj in response[\"near_earth_objects\"][date]:\n",
    "        asteroid = {\n",
    "            \"Asteroid ID\": obj[\"id\"],\n",
    "            \"Asteroid name\": obj[\"name\"],\n",
    "            \"Minimal estimated diameter (km)\": obj[\"estimated_diameter\"][\"kilometers\"][\"estimated_diameter_min\"],\n",
    "            \"Absolute_magnitude\": obj[\"absolute_magnitude_h\"],\n",
    "            \"Relative_velocity(km/s)\": float(obj[\"close_approach_data\"][0][\"relative_velocity\"][\"kilometers_per_second\"])\n",
    "        }\n",
    "        asteroids.append(asteroid)\n",
    "\n",
    "df = pd.DataFrame(asteroids)\n",
    "print(df.head())\n"
   ]
  },
  {
   "cell_type": "code",
   "execution_count": 7,
   "id": "8b304c59",
   "metadata": {},
   "outputs": [],
   "source": [
    "df.to_csv(\"nasa_asteroid_data.csv\", index=False)"
   ]
  },
  {
   "cell_type": "code",
   "execution_count": null,
   "id": "750e31c1",
   "metadata": {},
   "outputs": [],
   "source": []
  }
 ],
 "metadata": {
  "kernelspec": {
   "display_name": "Python 3",
   "language": "python",
   "name": "python3"
  },
  "language_info": {
   "codemirror_mode": {
    "name": "ipython",
    "version": 3
   },
   "file_extension": ".py",
   "mimetype": "text/x-python",
   "name": "python",
   "nbconvert_exporter": "python",
   "pygments_lexer": "ipython3",
   "version": "3.10.11"
  }
 },
 "nbformat": 4,
 "nbformat_minor": 5
}
